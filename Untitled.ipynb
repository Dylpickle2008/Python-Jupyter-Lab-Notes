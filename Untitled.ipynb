{
 "cells": [
  {
   "cell_type": "markdown",
   "id": "01609a1b-a29a-4153-a4ce-7429a2c40b62",
   "metadata": {},
   "source": [
    "# __Python Notes Overview__\n",
    "---"
   ]
  },
  {
   "cell_type": "markdown",
   "id": "4cbefaa5-dc55-4488-a652-a52bd8519b3e",
   "metadata": {},
   "source": [
    "Python is a high-level program language known for its readability and simplicity. It is used in various fields such as web development, data science, AI, ect."
   ]
  },
  {
   "cell_type": "markdown",
   "id": "b6af85fd-90e4-44ff-9040-06fcd3820ef5",
   "metadata": {},
   "source": [
    "## __Variables__\n",
    "***"
   ]
  },
  {
   "cell_type": "markdown",
   "id": "ceef0664-b753-4a0c-ade0-4a3c974ad226",
   "metadata": {},
   "source": [
    "Variables are used to store data values"
   ]
  },
  {
   "cell_type": "markdown",
   "id": "8f1959ab-a1d5-4d2a-a9da-99bdf04294ea",
   "metadata": {},
   "source": [
    "x = 8  an integer;\n",
    "y = 4.3  a float;\n",
    "name = \"Dylan\"  a string "
   ]
  },
  {
   "cell_type": "markdown",
   "id": "68be6406-42ed-494f-8c8b-223024b0394e",
   "metadata": {},
   "source": [
    "Data types include: "
   ]
  },
  {
   "cell_type": "markdown",
   "id": "0c1955e3-d87f-4396-8277-e06a518aeda5",
   "metadata": {},
   "source": [
    "Integers (int.): Whole numbers (4,12,20)"
   ]
  },
  {
   "cell_type": "markdown",
   "id": "215c7639-0303-4919-8ce7-2ac0d3f828b4",
   "metadata": {},
   "source": [
    "Floating-point Numbers (float): decimal numbers (3.14, 0.05)"
   ]
  },
  {
   "cell_type": "markdown",
   "id": "e28d5904-5100-42fd-92bb-81a223ac8acd",
   "metadata": {},
   "source": [
    "Strings (str.): text data, eg. (\"Congrats, You Won!\")"
   ]
  },
  {
   "cell_type": "markdown",
   "id": "944d0d3f-1034-4f08-8153-e88177468650",
   "metadata": {},
   "source": [
    "Booleans (bool): logical true or false values"
   ]
  },
  {
   "cell_type": "markdown",
   "id": "80797d1a-ac92-4ec3-8b9e-e0c320f5eef7",
   "metadata": {},
   "source": [
    "Lists (list): ordered mutable collections [1,2,3,4,5]"
   ]
  },
  {
   "cell_type": "markdown",
   "id": "47f2d78e-6809-43f5-9e47-fd3949285d43",
   "metadata": {},
   "source": [
    "Dictionaries (dict): key-value pairs {\"name\": \"Dylan\", \"age\": \"16\"}"
   ]
  },
  {
   "cell_type": "markdown",
   "id": "122eb92b-a495-4f2b-a8ca-8f91c4ae2c9f",
   "metadata": {},
   "source": [
    "Tuples (tuple): ordered immutable collections (1,2,3,4,5)"
   ]
  },
  {
   "cell_type": "markdown",
   "id": "485a9986-137e-4f35-a5fa-2bc7d3af2840",
   "metadata": {},
   "source": [
    "Sets (set): unordered collection of unique items {3,2,4,1,5}"
   ]
  },
  {
   "cell_type": "markdown",
   "id": "9d2d1078-8431-42fb-8b43-1a40427d1c18",
   "metadata": {},
   "source": [
    "## __Operators__\n",
    "---"
   ]
  },
  {
   "cell_type": "markdown",
   "id": "17769780-104a-4f64-8721-108788de1c87",
   "metadata": {},
   "source": [
    "### Arithmetic "
   ]
  },
  {
   "cell_type": "markdown",
   "id": "76d4a40c-56e0-48c7-9c7f-0be7e521a089",
   "metadata": {},
   "source": [
    "Addition (+); subtraction (-); multiplication (*); division (/); modulus or remainder (%); exponentiation (**); floor division (//)"
   ]
  },
  {
   "cell_type": "markdown",
   "id": "b606201a-99e9-4724-a2f6-3dbb29bec7d6",
   "metadata": {},
   "source": [
    "### Comparison Operators "
   ]
  },
  {
   "cell_type": "markdown",
   "id": "82117045-467f-4ec6-8723-a8a1e2d6a3d1",
   "metadata": {},
   "source": [
    "equal to (==); not equal to (!=); greater than (>); less than (<); greater than or equal (>=); less than or equal (<=)"
   ]
  },
  {
   "cell_type": "markdown",
   "id": "99a7dddc-cc5c-41f0-a97d-d2a0e708ab6f",
   "metadata": {},
   "source": [
    "### Logical Operators"
   ]
  },
  {
   "cell_type": "markdown",
   "id": "7e7539f4-80ac-434e-8140-2c439a15554c",
   "metadata": {},
   "source": [
    "and; or; not"
   ]
  },
  {
   "cell_type": "markdown",
   "id": "29a5b8e2-232c-490d-8293-e17effc9c286",
   "metadata": {},
   "source": [
    "## __Control Flow__\n",
    "---"
   ]
  },
  {
   "cell_type": "markdown",
   "id": "d79a48be-6f83-4ae0-9392-259f52a6cafa",
   "metadata": {},
   "source": [
    "### If statements"
   ]
  },
  {
   "cell_type": "markdown",
   "id": "e6264234-d2de-4001-bfe8-fd408f7790ea",
   "metadata": {},
   "source": [
    "Used to execute code based on a <u>condition</u>"
   ]
  },
  {
   "cell_type": "markdown",
   "id": "582aaaa5-ff36-478b-93d1-204860908f90",
   "metadata": {},
   "source": [
    "`age = 21\n",
    "if age >= 21:\n",
    "    print(\"You can buy alcohol.\")\n",
    "else:\n",
    "    print(\"You cannot buy alcohol.\")`"
   ]
  },
  {
   "cell_type": "markdown",
   "id": "7c6ae44c-3c24-4244-9856-12b7c81ff86a",
   "metadata": {},
   "source": [
    "### Loops"
   ]
  },
  {
   "cell_type": "markdown",
   "id": "50dd6acd-9488-42e4-9210-8e4b3cda9b6d",
   "metadata": {},
   "source": [
    "Used to repeat a block of code multiple times. "
   ]
  },
  {
   "cell_type": "markdown",
   "id": "ee218a06-87f3-4216-bc13-722f86cd78b5",
   "metadata": {},
   "source": [
    "#### For Loops"
   ]
  },
  {
   "cell_type": "markdown",
   "id": "f692d759-fed4-462a-9ed7-8b6f50b4f8b2",
   "metadata": {},
   "source": [
    "Used for iterating over a sequence (a list or range)"
   ]
  },
  {
   "cell_type": "markdown",
   "id": "931f856e-116f-485e-8ab3-02b1b994f95c",
   "metadata": {},
   "source": [
    "`for i in range(5):\n",
    "    print(\"Iteration\", i)`"
   ]
  },
  {
   "cell_type": "markdown",
   "id": "2ead4807-db6f-4c7c-a419-03a40cd285d0",
   "metadata": {},
   "source": [
    "#### While Loops"
   ]
  },
  {
   "cell_type": "markdown",
   "id": "1881fa63-43fd-45a1-980d-ef51a09db09e",
   "metadata": {},
   "source": [
    "Repeats as long as condition is true"
   ]
  },
  {
   "cell_type": "markdown",
   "id": "2084f4ca-f4f0-4ca9-9a2f-020bc732b6a8",
   "metadata": {},
   "source": [
    "count = 5"
   ]
  },
  {
   "cell_type": "markdown",
   "id": "a519e0a6-5d46-4a6e-b418-9fa5f7ca09ca",
   "metadata": {},
   "source": [
    "`while count < 10:\n",
    "    print(\"Count is\", count)\n",
    "    count += 1`"
   ]
  },
  {
   "cell_type": "markdown",
   "id": "6ae8ff72-7a67-4635-bcc7-a9674e1bef79",
   "metadata": {},
   "source": [
    "### Lists"
   ]
  },
  {
   "cell_type": "markdown",
   "id": "d630abcb-dd53-4945-adc7-78d17588212c",
   "metadata": {},
   "source": [
    "Lists are ordered, mutable collections of items."
   ]
  },
  {
   "cell_type": "markdown",
   "id": "85f9ffa2-44d6-4b5e-b6b8-843fa15c6f74",
   "metadata": {},
   "source": [
    "Creating a list: pets = [\"dog\", \"cat\", \"bird\"]"
   ]
  },
  {
   "cell_type": "markdown",
   "id": "566e8397-871b-4c99-ae8c-e5ad9e35e8b1",
   "metadata": {},
   "source": [
    "Accessing list items: print(pets[0]);  outputs: dog"
   ]
  },
  {
   "cell_type": "markdown",
   "id": "1c523550-c165-431f-9866-9f82c4dcf593",
   "metadata": {},
   "source": [
    "Modifying list items: pets[1] = \"rabbit\""
   ]
  },
  {
   "cell_type": "markdown",
   "id": "c53c17b8-a8b1-4345-8d4a-793be223727d",
   "metadata": {},
   "source": [
    "Adding items to a list: pets.append(\"snake\")"
   ]
  },
  {
   "cell_type": "markdown",
   "id": "46949576-8f25-4755-afab-9f2352bf5bfa",
   "metadata": {},
   "source": [
    "Removing items from a list: pets.remove(\"bird\")"
   ]
  },
  {
   "cell_type": "markdown",
   "id": "3bac7580-2a1f-402e-b8ad-e4c113685f4a",
   "metadata": {},
   "source": [
    "### Common List Methods"
   ]
  },
  {
   "cell_type": "markdown",
   "id": "3b95969d-84e0-444d-8444-e44e8c185617",
   "metadata": {},
   "source": [
    "append(item): adds item to a list"
   ]
  },
  {
   "cell_type": "markdown",
   "id": "fac58488-ed3c-4e08-b264-20e25ca289f1",
   "metadata": {},
   "source": [
    "insert(index, item): inserts an item to a specific index"
   ]
  },
  {
   "cell_type": "markdown",
   "id": "2d521eb8-5aeb-4925-95a3-6c4470b64b48",
   "metadata": {},
   "source": [
    "remove(item): removes the first occurence of an item"
   ]
  },
  {
   "cell_type": "markdown",
   "id": "fe0367a1-dea4-4f8b-a76b-57b78e45621d",
   "metadata": {},
   "source": [
    "pop(index): removes and returns the item at the given index"
   ]
  },
  {
   "cell_type": "markdown",
   "id": "44981264-472e-44e9-abca-40ca46ae8769",
   "metadata": {},
   "source": [
    "sort(): sorts the list"
   ]
  },
  {
   "cell_type": "markdown",
   "id": "ada13582-e4cd-4162-a70d-ba10b5b1940d",
   "metadata": {},
   "source": [
    "reverse(): reverses the list"
   ]
  },
  {
   "cell_type": "markdown",
   "id": "6bdd3334-07cb-4d0e-b8d4-c914b98b19f5",
   "metadata": {},
   "source": [
    "### Dictionaries "
   ]
  },
  {
   "cell_type": "markdown",
   "id": "e42455d7-0989-4f4e-976d-da701aac1213",
   "metadata": {},
   "source": [
    "Used to store data values in key-value pairs:"
   ]
  },
  {
   "cell_type": "markdown",
   "id": "909708e3-728b-4c5c-92e7-5e095b5504ce",
   "metadata": {},
   "source": [
    "Creating a dictionary: `person = { \"name\": \"Dylan\", \"age\": 16}`"
   ]
  },
  {
   "cell_type": "markdown",
   "id": "83184c0f-0d56-4de9-895d-8368b45d1038",
   "metadata": {},
   "source": [
    "Accessing dictionary items: `print(person[\"age\"])` output: 16"
   ]
  },
  {
   "cell_type": "markdown",
   "id": "65256bfe-d7e3-448c-898c-8b74bc230ee0",
   "metadata": {},
   "source": [
    "Modify dictionary items: person[\"age\"] = 15"
   ]
  },
  {
   "cell_type": "markdown",
   "id": "123c97b1-6cb8-4d00-a2e4-0753cd369aaf",
   "metadata": {},
   "source": [
    "Adding a new key-value pair: `person[\"town\"] = Tuckahoe`"
   ]
  },
  {
   "cell_type": "markdown",
   "id": "25ed7b5f-43aa-4e68-b07a-c91c32407451",
   "metadata": {},
   "source": [
    "### Common Dictionary Methods"
   ]
  },
  {
   "cell_type": "markdown",
   "id": "903b19c3-c2b0-4f7d-8bc1-dded8b297d71",
   "metadata": {},
   "source": [
    "keys(): returns a list of keys"
   ]
  },
  {
   "cell_type": "markdown",
   "id": "3657dc92-4402-415a-9ce5-74b9828c4b44",
   "metadata": {},
   "source": [
    "values(): returns a list of values"
   ]
  },
  {
   "cell_type": "markdown",
   "id": "5aae10a0-d562-47b2-bf09-8ae7af79317e",
   "metadata": {},
   "source": [
    "items(): returns a list of key-value pairs"
   ]
  },
  {
   "cell_type": "markdown",
   "id": "657d1c73-bd6e-4a49-978d-aa4b8df55925",
   "metadata": {},
   "source": [
    "get(key): returns the value for the specified key"
   ]
  },
  {
   "cell_type": "markdown",
   "id": "6612d284-1910-4425-8e83-09e5a3bfc3eb",
   "metadata": {},
   "source": [
    "### Function"
   ]
  },
  {
   "cell_type": "markdown",
   "id": "c2b7f344-5bde-4765-a92a-b31696b2f2f1",
   "metadata": {},
   "source": [
    "Functions are reusable blocks of code that could preform a specific task"
   ]
  },
  {
   "cell_type": "markdown",
   "id": "90c175e2-2b98-41ff-8c11-1644fdd1ee57",
   "metadata": {},
   "source": [
    "Defining a function: `def greet(name): return f\"Hello, {name}!\"`"
   ]
  },
  {
   "cell_type": "markdown",
   "id": "1e9bd17f-aab6-4743-b575-25b6413f882f",
   "metadata": {},
   "source": [
    "Calling a function: `message = greet(\"Dylan\") print(message);  output: Hello, Dylan!`"
   ]
  },
  {
   "cell_type": "markdown",
   "id": "3c1d2966-f0ba-43a9-ab3e-3d299bcbab6b",
   "metadata": {},
   "source": [
    "### Parameters and Arguements"
   ]
  },
  {
   "cell_type": "markdown",
   "id": "8c211313-53f0-41cb-bbd3-3b1f4951d1f1",
   "metadata": {},
   "source": [
    "Functions can take parameters to work with different values"
   ]
  },
  {
   "cell_type": "markdown",
   "id": "ae9bec39-a057-4d48-8059-6e75c6ae3895",
   "metadata": {},
   "source": [
    "Function with parameters: `def add(x, y): return x + y`"
   ]
  },
  {
   "cell_type": "markdown",
   "id": "b06d2fb7-d5f9-4e8d-907d-2aea287eeb89",
   "metadata": {},
   "source": [
    "Calling the function with arguements: `result = add(5, 8) print(result);`  Output = 13"
   ]
  },
  {
   "cell_type": "markdown",
   "id": "905cd2c5-a807-4f70-b1ec-7c0d1dfa027a",
   "metadata": {},
   "source": [
    "## __Input and Output__\n",
    "---"
   ]
  },
  {
   "cell_type": "markdown",
   "id": "feea5610-3a07-45a3-b216-712b1796a4b3",
   "metadata": {},
   "source": [
    "### Input"
   ]
  },
  {
   "cell_type": "markdown",
   "id": "1d3d0c74-65d3-499c-b1a8-a217eee8c1e4",
   "metadata": {},
   "source": [
    "Used to generate user input from the console"
   ]
  },
  {
   "cell_type": "markdown",
   "id": "c6dbb1ac-6069-4b16-b587-12f1f47589f9",
   "metadata": {},
   "source": [
    "Getting user input: `name = input(\"Enter your name: \") print(f\"Hello, {name}!\")`"
   ]
  },
  {
   "cell_type": "markdown",
   "id": "71d1ee1b-81fc-4e7e-96b1-4435445ad100",
   "metadata": {},
   "source": [
    "### Output"
   ]
  },
  {
   "cell_type": "markdown",
   "id": "da86c221-259e-4ef0-a02e-6460fa398b0a",
   "metadata": {},
   "source": [
    "Used to display information to the console"
   ]
  },
  {
   "cell_type": "markdown",
   "id": "fd2fd485-4d30-4042-8e98-4cbb0cc2ae0c",
   "metadata": {},
   "source": [
    "printing output: `print(\"Congratulations, You Won!\")`"
   ]
  },
  {
   "cell_type": "markdown",
   "id": "e6731a5e-3167-4b3c-a013-888e1c7878ad",
   "metadata": {},
   "source": [
    "### Comments"
   ]
  },
  {
   "cell_type": "markdown",
   "id": "d5d7dc9f-eeb8-4881-b26b-121846a41eb1",
   "metadata": {},
   "source": [
    "Comments are used to explain code and are ignored by the interpreter"
   ]
  },
  {
   "cell_type": "markdown",
   "id": "3ce80654-3323-415f-8e10-7c15bd2f1327",
   "metadata": {},
   "source": [
    "Single-line comment: \n",
    "`# This is a single line comment`"
   ]
  },
  {
   "cell_type": "markdown",
   "id": "d4e6616b-ac90-4c5c-9115-f468dca3025b",
   "metadata": {},
   "source": [
    "Multi-line comment: ` '''\n",
    "                   this is a \n",
    "                   multi-line comment\n",
    "                      ''' `"
   ]
  },
  {
   "cell_type": "markdown",
   "id": "eb5e36bc-fdd0-4c35-8016-2e651f46e7f1",
   "metadata": {},
   "source": [
    "## __Object-Oriented Programming (OOP)__\n",
    "---"
   ]
  },
  {
   "cell_type": "markdown",
   "id": "4bf8dd88-a952-4173-af04-99b3b02c4203",
   "metadata": {},
   "source": [
    "This programming allows you to create classes and objects."
   ]
  },
  {
   "cell_type": "markdown",
   "id": "bfb6e55d-2782-439a-8de4-5639697dd8f7",
   "metadata": {},
   "source": [
    "### Classes and Objects"
   ]
  },
  {
   "cell_type": "markdown",
   "id": "ebbfdf9e-c1e0-4cdc-9ae9-b5db0fc51d45",
   "metadata": {},
   "source": [
    "Class: a blueprint for creating objects; \n",
    "Object: an instance of a class"
   ]
  },
  {
   "cell_type": "markdown",
   "id": "c28f78e9-d35a-4efd-baec-d39da546ed9d",
   "metadata": {},
   "source": [
    "Defining a class: class Person: `def __init__(self, name, age): self.name = name  self.age = age`"
   ]
  },
  {
   "cell_type": "markdown",
   "id": "5e4159bc-e651-4cb4-9857-dca28c583eab",
   "metadata": {},
   "source": [
    "def greet(self): `return f\"Hello, my name is {self.name}.\"`"
   ]
  },
  {
   "cell_type": "markdown",
   "id": "01b81e52-136d-47d3-be56-611b9eb13c81",
   "metadata": {},
   "source": [
    "Creating an object: `person1 = Person(\"Dylan\", 16)\n",
    "print(person1.greet()); outputs: Hello, my name is Dylan`"
   ]
  }
 ],
 "metadata": {
  "kernelspec": {
   "display_name": "Python 3 (ipykernel)",
   "language": "python",
   "name": "python3"
  },
  "language_info": {
   "codemirror_mode": {
    "name": "ipython",
    "version": 3
   },
   "file_extension": ".py",
   "mimetype": "text/x-python",
   "name": "python",
   "nbconvert_exporter": "python",
   "pygments_lexer": "ipython3",
   "version": "3.12.1"
  }
 },
 "nbformat": 4,
 "nbformat_minor": 5
}
